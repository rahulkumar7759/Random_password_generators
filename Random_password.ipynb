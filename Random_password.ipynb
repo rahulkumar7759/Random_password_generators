import random
password_length= int(input("Enter the length of password: "))
s="abcdefghijklmnopqrstuvwxyz01234567890ABCDEFGHIJKLMNOPQRSTUVWXYZ!@#$%^&*()?"
password= "".join(random.sample(s,pw_length))
print(password)


